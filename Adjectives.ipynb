{
 "cells": [
  {
   "cell_type": "code",
   "execution_count": 2,
   "metadata": {},
   "outputs": [],
   "source": [
    "# -*- coding: utf-8 -*-\n",
    "\n",
    "#creating adjective notebook for the Hashtags data\n",
    "\n",
    "import spacy\n",
    "\n",
    "nlp = spacy.load(\"en_core_web_sm\")\n",
    "import numpy as np\n",
    "\n",
    "import pandas as pd\n",
    "ds=pd.read_csv(\"cocacola.csv\")  #reading the comments csv file of particular product\n",
    "df=ds.iloc[:,:].values\n",
    "df=np.array(df)\n",
    "df=df.flatten()\n",
    "l=[]\n",
    "for i in df:\n",
    "    doc = nlp(i)\n",
    "    for token in doc:\n",
    "        if  (token.pos_==\"ADJ\"):               #checking the words as adjectives\n",
    "            l.append(token)\n",
    "            \n",
    "#converting data type from spacy.token to string\n",
    "for i in range(0,len(l)):\n",
    "    l[i]=str(l[i])\n",
    "\n",
    "f=open(\"cocacola_adj.csv\", \"w+\",encoding=\"UTF-8\")             #opening files for saving cloud data\n",
    "for i in l:\n",
    "     f.write(i)\n",
    "     f.write(\"\\n\")\n",
    "\n",
    "     \n",
    "f.close()"
   ]
  },
  {
   "cell_type": "code",
   "execution_count": null,
   "metadata": {},
   "outputs": [],
   "source": []
  }
 ],
 "metadata": {
  "kernelspec": {
   "display_name": "Python 3",
   "language": "python",
   "name": "python3"
  },
  "language_info": {
   "codemirror_mode": {
    "name": "ipython",
    "version": 3
   },
   "file_extension": ".py",
   "mimetype": "text/x-python",
   "name": "python",
   "nbconvert_exporter": "python",
   "pygments_lexer": "ipython3",
   "version": "3.7.6"
  }
 },
 "nbformat": 4,
 "nbformat_minor": 4
}
