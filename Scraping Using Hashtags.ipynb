{
 "cells": [
  {
   "cell_type": "code",
   "execution_count": 1,
   "metadata": {},
   "outputs": [],
   "source": [
    "# -*- coding: utf-8 -*-\n",
    "#Twitter Comments Scrapper\n",
    "# This is generic notebook to get the data for Hashtags \n",
    "# The following Hasgtag used for my project purpose\n",
    "#  --- #pepsico\n",
    "#  ----#coca-cola\n",
    "\n",
    "import tweepy\n",
    "from nlppreprocess import NLP\n",
    "obj=NLP()\n",
    "term_or_hashtag='#pepsico' \n",
    "f= open(\"pepsico.csv\",\"w+\",encoding=\"UTF-8\") \n",
    "def DownloadData(searchTerm):\n",
    "        # authenticating\n",
    "        # Masked the consumer key, secret and token values\n",
    "        consumerKey = 'xxxxxxxxxxxxxxxxxxxxxx'\n",
    "        consumerSecret = 'xxxxxxxxxxxxxxxxxxxxxx'\n",
    "        accessToken = 'xxxxxxxxxxxxxxxxxxxxxxxxxxx'\n",
    "        accessTokenSecret = 'xxxxxxxxxxxxxxxxxxxxxxxxxxx'\n",
    "        auth = tweepy.OAuthHandler(consumerKey, consumerSecret)\n",
    "        auth.set_access_token(accessToken, accessTokenSecret)\n",
    "        api = tweepy.API(auth)\n",
    "\n",
    "        NoOfTerms = 2000                    \n",
    "        # searching for tweets\n",
    "        tweets = tweepy.Cursor(api.search, q=searchTerm, lang = \"en\").items(NoOfTerms)\n",
    "        for i in tweets:\n",
    "            text=obj.process(i.text)\n",
    "            f.write(text)\n",
    "            f.write('\\n')\n",
    "        \n",
    "if __name__ == '__main__':\n",
    "    DownloadData(term_or_hashtag)"
   ]
  },
  {
   "cell_type": "code",
   "execution_count": null,
   "metadata": {},
   "outputs": [],
   "source": []
  }
 ],
 "metadata": {
  "kernelspec": {
   "display_name": "Python 3",
   "language": "python",
   "name": "python3"
  },
  "language_info": {
   "codemirror_mode": {
    "name": "ipython",
    "version": 3
   },
   "file_extension": ".py",
   "mimetype": "text/x-python",
   "name": "python",
   "nbconvert_exporter": "python",
   "pygments_lexer": "ipython3",
   "version": "3.7.6"
  }
 },
 "nbformat": 4,
 "nbformat_minor": 4
}
