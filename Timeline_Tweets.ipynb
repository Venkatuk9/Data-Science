{
 "cells": [
  {
   "cell_type": "code",
   "execution_count": 1,
   "metadata": {},
   "outputs": [
    {
     "name": "stderr",
     "output_type": "stream",
     "text": [
      "INFO: {'User-Agent': 'Mozilla/5.0 (Windows NT 5.2; RW; rv:7.0a1) Gecko/20091211 SeaMonkey/9.23a1pre'}\n",
      "INFO: queries: ['AmericanAirlines since:2020-05-01 until:2020-05-03', 'AmericanAirlines since:2020-05-03 until:2020-05-05', 'AmericanAirlines since:2020-05-05 until:2020-05-07', 'AmericanAirlines since:2020-05-07 until:2020-05-10', 'AmericanAirlines since:2020-05-10 until:2020-05-12', 'AmericanAirlines since:2020-05-12 until:2020-05-14', 'AmericanAirlines since:2020-05-14 until:2020-05-16', 'AmericanAirlines since:2020-05-16 until:2020-05-19', 'AmericanAirlines since:2020-05-19 until:2020-05-21', 'AmericanAirlines since:2020-05-21 until:2020-05-23', 'AmericanAirlines since:2020-05-23 until:2020-05-25', 'AmericanAirlines since:2020-05-25 until:2020-05-28', 'AmericanAirlines since:2020-05-28 until:2020-05-30', 'AmericanAirlines since:2020-05-30 until:2020-06-01', 'AmericanAirlines since:2020-06-01 until:2020-06-03', 'AmericanAirlines since:2020-06-03 until:2020-06-06', 'AmericanAirlines since:2020-06-06 until:2020-06-08', 'AmericanAirlines since:2020-06-08 until:2020-06-10', 'AmericanAirlines since:2020-06-10 until:2020-06-12', 'AmericanAirlines since:2020-06-12 until:2020-06-15']\n",
      "INFO: Got 0 tweets (0 new).\n",
      "INFO: Got 0 tweets (0 new).\n",
      "INFO: Got 0 tweets (0 new).\n",
      "INFO: Got 0 tweets (0 new).\n",
      "INFO: Got 0 tweets (0 new).\n",
      "INFO: Got 0 tweets (0 new).\n",
      "INFO: Got 0 tweets (0 new).\n",
      "INFO: Got 0 tweets (0 new).\n",
      "INFO: Got 0 tweets (0 new).\n",
      "INFO: Got 0 tweets (0 new).\n",
      "INFO: Got 0 tweets (0 new).\n",
      "INFO: Got 0 tweets (0 new).\n",
      "INFO: Got 0 tweets (0 new).\n",
      "INFO: Got 0 tweets (0 new).\n",
      "INFO: Got 0 tweets (0 new).\n",
      "INFO: Got 0 tweets (0 new).\n",
      "INFO: Got 0 tweets (0 new).\n",
      "INFO: Got 0 tweets (0 new).\n",
      "INFO: Got 0 tweets (0 new).\n",
      "INFO: Got 0 tweets (0 new).\n"
     ]
    }
   ],
   "source": [
    "# -*- coding: utf-8 -*-\n",
    "\n",
    "\n",
    "import tweepy\n",
    "import pandas as pd\n",
    "import time\n",
    "\n",
    "from twitterscraper import query_tweets\n",
    "import datetime as dt\n",
    "import pandas as pd\n",
    "begin_date = dt.date(2020,5,1)\n",
    "end_date = dt.date(2020,6,15)\n",
    "limit = 1000\n",
    "lang = 'English'\n",
    "\n",
    "tweets = query_tweets(\"pepsi\" , begindate = begin_date, enddate = end_date , limit = limit, lang = lang)\n",
    "\n",
    "df = pd.DataFrame(t.__dict__ for t in tweets)\n",
    "df.to_csv('Trends.csv')\n"
   ]
  },
  {
   "cell_type": "code",
   "execution_count": null,
   "metadata": {},
   "outputs": [],
   "source": []
  }
 ],
 "metadata": {
  "kernelspec": {
   "display_name": "Python 3",
   "language": "python",
   "name": "python3"
  },
  "language_info": {
   "codemirror_mode": {
    "name": "ipython",
    "version": 3
   },
   "file_extension": ".py",
   "mimetype": "text/x-python",
   "name": "python",
   "nbconvert_exporter": "python",
   "pygments_lexer": "ipython3",
   "version": "3.7.6"
  }
 },
 "nbformat": 4,
 "nbformat_minor": 4
}
