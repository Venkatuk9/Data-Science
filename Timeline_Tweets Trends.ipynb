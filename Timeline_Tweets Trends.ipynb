{
 "cells": [
  {
   "cell_type": "code",
   "execution_count": null,
   "metadata": {},
   "outputs": [],
   "source": [
    "# -*- coding: utf-8 -*-\n",
    "# Generic to notebook to get the trends for engagement ratio\n",
    "\n",
    "import tweepy\n",
    "import pandas as pd\n",
    "import time\n",
    "\n",
    "from twitterscraper import query_tweets\n",
    "import datetime as dt\n",
    "import pandas as pd\n",
    "# The start date and end date can be modified to get the data\n",
    "begin_date = dt.date(2020,5,1)\n",
    "end_date = dt.date(2020,6,15)\n",
    "limit = 1000\n",
    "lang = 'English'\n",
    "\n",
    "tweets = query_tweets(\"pepsi\" , begindate = begin_date, enddate = end_date , limit = limit, lang = lang)\n",
    "\n",
    "df = pd.DataFrame(t.__dict__ for t in tweets)\n",
    "df.to_csv('Trends.csv')"
   ]
  }
 ],
 "metadata": {
  "kernelspec": {
   "display_name": "Python 3",
   "language": "python",
   "name": "python3"
  },
  "language_info": {
   "codemirror_mode": {
    "name": "ipython",
    "version": 3
   },
   "file_extension": ".py",
   "mimetype": "text/x-python",
   "name": "python",
   "nbconvert_exporter": "python",
   "pygments_lexer": "ipython3",
   "version": "3.7.6"
  }
 },
 "nbformat": 4,
 "nbformat_minor": 4
}
